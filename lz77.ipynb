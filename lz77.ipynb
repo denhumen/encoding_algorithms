{
 "cells": [
  {
   "attachments": {},
   "cell_type": "markdown",
   "metadata": {},
   "source": [
    "# Lz77 Algorithm"
   ]
  },
  {
   "attachments": {},
   "cell_type": "markdown",
   "metadata": {},
   "source": [
    "### Implementation"
   ]
  },
  {
   "attachments": {},
   "cell_type": "markdown",
   "metadata": {},
   "source": [
    "This Python code defines a class called Lz77 that implements the LZ77 compression algorithm. The class has three methods:\n",
    "\n",
    "   - `__init__` method that initializes the buffer length used in the compression algorithm.\n",
    "   - `__find_longest_match` local method that searches for the longest match of a substring in a buffer given a current position. It returns a tuple containing the offset and length of the longest match found.\n",
    "   - `encode` method that encodes the given text using the LZ77 compression algorithm. It returns a list of tuples representing the encoded data. Each tuple contains the offset, length, and next character of the match (if any).\n",
    "   - `decode` method that decodes the encoded text into its original form. It returns the decoded text.\n",
    "\n",
    "The buffer length used in the LZ77 algorithm can be set by passing a parameter to the Lz77 constructor. The default value is 5."
   ]
  },
  {
   "cell_type": "code",
   "execution_count": 17,
   "metadata": {},
   "outputs": [],
   "source": [
    "from typing import List\n",
    "\n",
    "class Lz77():\n",
    "    \"\"\"\n",
    "    Lz77 class\n",
    "    \"\"\"\n",
    "    def __init__(self, buffer_length = 5) -> None:\n",
    "        \"\"\"\n",
    "        Init method\n",
    "        \"\"\"\n",
    "        self.buffer_length = buffer_length\n",
    "\n",
    "    def __find_longest_match(self, text: str, current_pos: int):\n",
    "        \"\"\"\n",
    "        This function finds the longest match for a given\n",
    "        position in a buffer of length buffer_len.\n",
    "        \n",
    "        Args:\n",
    "            tex: str - The text to search for matches.\n",
    "            current_pos: int - The current position to search for a match.\n",
    "            buffer_len: int - The length of the buffer to search for matches in.\n",
    "        \n",
    "        Returns:\n",
    "            A tuple containing the offset and length of the longest match found.\n",
    "        \"\"\"\n",
    "        result_offset = 0\n",
    "        result_length = 0\n",
    "        for offset in range(1, self.buffer_length+1):\n",
    "            if current_pos - offset < 0:\n",
    "                break\n",
    "            start = current_pos - offset\n",
    "            end = current_pos\n",
    "            length = 0\n",
    "            while (end < len(text) and\n",
    "                length < offset and\n",
    "                text[start] == text[end]):\n",
    "                length += 1\n",
    "                start += 1\n",
    "                end += 1\n",
    "            if length > result_length:\n",
    "                result_length = length\n",
    "                result_offset = offset\n",
    "        return (result_offset, result_length)\n",
    "\n",
    "    def encode(self, text: str):\n",
    "        \"\"\"\n",
    "        This function encodes the given text using the LZ77 compression algorithm.\n",
    "\n",
    "        Args:\n",
    "            text: str - The text to encode.\n",
    "            buffer_len: int - The length of the buffer used to search for matches.\n",
    "        \n",
    "        Returns:\n",
    "            A list of tuples representing the encoded data. Each tuple contains the offset,\n",
    "        length, and next character of the match (if any).\n",
    "        \"\"\"\n",
    "        result = []\n",
    "        pos = 0\n",
    "        n = len(text)\n",
    "        while pos < n:\n",
    "            offset, length = self.__find_longest_match(text, pos)\n",
    "            if length == 0:\n",
    "                try:\n",
    "                    txt = text[pos]\n",
    "                except IndexError: #if there is no next letter\n",
    "                    txt = None\n",
    "                result.append((0, 0, txt))\n",
    "                pos += 1\n",
    "            else: #if match length > 0\n",
    "                try:\n",
    "                    txt = text[pos + length]\n",
    "                except IndexError: #if there is no next letter\n",
    "                    txt = None\n",
    "                result.append((offset, length, txt))\n",
    "                pos += 1 + length\n",
    "        return result\n",
    "\n",
    "    def decode(self, encoded_text: List[tuple]):\n",
    "        \"\"\"\n",
    "        Lz77 decode method\n",
    "        \"\"\"\n",
    "        result = \"\"\n",
    "        for offset, length, letter in encoded_text:\n",
    "            if length == 0:\n",
    "                try:\n",
    "                    result += letter\n",
    "                except TypeError:\n",
    "                    continue\n",
    "            else:\n",
    "                start = len(result) - offset\n",
    "                for i in range(length):\n",
    "                    result += result[start+i]\n",
    "                try:\n",
    "                    result += letter\n",
    "                except TypeError:\n",
    "                    continue\n",
    "        return result"
   ]
  },
  {
   "attachments": {},
   "cell_type": "markdown",
   "metadata": {},
   "source": [
    "### How it is working"
   ]
  },
  {
   "cell_type": "code",
   "execution_count": 18,
   "metadata": {},
   "outputs": [
    {
     "data": {
      "text/plain": [
       "True"
      ]
     },
     "execution_count": 18,
     "metadata": {},
     "output_type": "execute_result"
    }
   ],
   "source": [
    "#Create an object for Lz77 algorithm with buffer length 5\n",
    "lz77 = Lz77(5)\n",
    "#Create simple text line\n",
    "text = \"abarfkoeflepfepkaijdiefjeopqjsndajndjahajhajdahajfhdjeokfeofepp\"\n",
    "#Encode it using lz77 algorithm\n",
    "encoded = lz77.encode(text)\n",
    "decoded = lz77.decode(encoded)\n",
    "#Compare initial text with decoded one\n",
    "decoded == text"
   ]
  },
  {
   "attachments": {},
   "cell_type": "markdown",
   "metadata": {},
   "source": [
    "### Testing"
   ]
  },
  {
   "attachments": {},
   "cell_type": "markdown",
   "metadata": {},
   "source": [
    "Create functions for testing compressing"
   ]
  },
  {
   "cell_type": "code",
   "execution_count": 19,
   "metadata": {},
   "outputs": [],
   "source": [
    "import struct\n",
    "import sys\n",
    "\n",
    "def read_data(file) -> str:\n",
    "    \"\"\"\n",
    "    Read data from file function\n",
    "\n",
    "    Args:\n",
    "        file: str - Path to input file\n",
    "    Returns:\n",
    "        str - read data from file in string format\n",
    "    \"\"\"\n",
    "    with open(file, 'r', encoding='utf-8') as f:\n",
    "        return \"\\n\".join([i.strip() for i in f.readlines()])\n",
    "\n",
    "def compress_lz77_to_bytes(lz77_output: List[tuple]):\n",
    "    \"\"\"\n",
    "    Function compresses output of the LZ77 algorithm to bytes and writes it to a file.\n",
    "\n",
    "    Args:\n",
    "        lz77_output: list - Output of the LZ77 algorithm, represented as a list of tuples (distance, length, next_char).\n",
    "        output_file: str - Path to the output file.\n",
    "\n",
    "    Returns:\n",
    "        None\n",
    "    \"\"\"\n",
    "    сompressed = bytearray()\n",
    "    for triple in lz77_output:\n",
    "        next_char = triple[2] if triple[2] else '\\0'\n",
    "        try:\n",
    "            packed_triple = struct.pack('<HBB', triple[0], triple[1], ord(next_char))\n",
    "        except Exception:\n",
    "            continue\n",
    "        сompressed += packed_triple\n",
    "    return сompressed\n"
   ]
  },
  {
   "attachments": {},
   "cell_type": "markdown",
   "metadata": {},
   "source": [
    "#### Test compressing small file"
   ]
  },
  {
   "cell_type": "code",
   "execution_count": 20,
   "metadata": {},
   "outputs": [
    {
     "name": "stdout",
     "output_type": "stream",
     "text": [
      "file: 0.013542mb\n",
      "compressed: 0.019286mb\n"
     ]
    }
   ],
   "source": [
    "obj = Lz77(10)\n",
    "data = read_data('text_files/middlesize_text.txt')\n",
    "encoded = obj.encode(data)\n",
    "compressed = compress_lz77_to_bytes(encoded)\n",
    "print(f\"file: {sys.getsizeof(data)/1000000}mb\")\n",
    "print(f\"compressed: {sys.getsizeof(compressed)/1000000}mb\")"
   ]
  },
  {
   "cell_type": "code",
   "execution_count": 21,
   "metadata": {},
   "outputs": [
    {
     "name": "stdout",
     "output_type": "stream",
     "text": [
      "file: 0.06777mb\n",
      "compressed: 0.180822mb\n"
     ]
    }
   ],
   "source": [
    "obj = Lz77(10)\n",
    "data = read_data('text_files/big_text.txt')\n",
    "encoded = obj.encode(data)\n",
    "compressed = compress_lz77_to_bytes(encoded)\n",
    "print(f\"file: {sys.getsizeof(data)/1000000}mb\")\n",
    "print(f\"compressed: {sys.getsizeof(compressed)/1000000}mb\")"
   ]
  },
  {
   "cell_type": "code",
   "execution_count": 22,
   "metadata": {},
   "outputs": [
    {
     "name": "stdout",
     "output_type": "stream",
     "text": [
      "file: 16.321808mb\n",
      "compressed: 7.836884mb\n"
     ]
    }
   ],
   "source": [
    "obj = Lz77(10)\n",
    "data = read_data('text_files/verybig.txt')\n",
    "encoded = obj.encode(data)\n",
    "compressed = compress_lz77_to_bytes(encoded)\n",
    "print(f\"file: {sys.getsizeof(data)/1000000}mb\")\n",
    "print(f\"compressed: {sys.getsizeof(compressed)/1000000}mb\")\n"
   ]
  },
  {
   "cell_type": "code",
   "execution_count": 23,
   "metadata": {},
   "outputs": [],
   "source": [
    "#import libraries for testing an algorithm\n",
    "import matplotlib.pyplot as plt\n",
    "import time"
   ]
  },
  {
   "cell_type": "code",
   "execution_count": 24,
   "metadata": {},
   "outputs": [],
   "source": [
    "#List of file pathes which are containing text for testing\n",
    "file_pathes = ['text_files/small_text.txt', 'text_files/middlesize_text.txt', 'text_files/big_text.txt']"
   ]
  },
  {
   "cell_type": "code",
   "execution_count": 25,
   "metadata": {},
   "outputs": [],
   "source": [
    "def test_lz77(files: List[str], buffer_size: int):\n",
    "    time_taken = []\n",
    "    length = []\n",
    "    for file_path in files:\n",
    "        with open(file_path, 'r', encoding='utf-8') as file:\n",
    "            data = file.read()\n",
    "        length.append(len(data))\n",
    "        start = time.time()\n",
    "        lz77 = Lz77(buffer_size)\n",
    "        lz77.encode(data)\n",
    "        end = time.time()\n",
    "        time_taken.append(end - start)\n",
    "    plt.xlabel('Text length')\n",
    "    plt.ylabel('Time taken')\n",
    "    x = length\n",
    "    y = time_taken\n",
    "    plt.plot(x, y)"
   ]
  },
  {
   "attachments": {},
   "cell_type": "markdown",
   "metadata": {},
   "source": [
    "#### Buffer size = 5"
   ]
  },
  {
   "cell_type": "code",
   "execution_count": 26,
   "metadata": {},
   "outputs": [],
   "source": [
    "test_lz77(file_pathes, 5)"
   ]
  },
  {
   "attachments": {},
   "cell_type": "markdown",
   "metadata": {},
   "source": [
    "#### Buffer size = 50"
   ]
  },
  {
   "cell_type": "code",
   "execution_count": null,
   "metadata": {},
   "outputs": [
    {
     "data": {
      "image/png": "[encoded data removed]",
      "text/plain": [
       "<Figure size 640x480 with 1 Axes>"
      ]
     },
     "metadata": {},
     "output_type": "display_data"
    }
   ],
   "source": [
    "test_lz77(file_pathes, 50)"
   ]
  },
  {
   "attachments": {},
   "cell_type": "markdown",
   "metadata": {},
   "source": [
    "#### Buffer size = 100"
   ]
  },
  {
   "cell_type": "code",
   "execution_count": null,
   "metadata": {},
   "outputs": [
    {
     "data": {
      "image/png": "[encoded data removed]",
      "text/plain": [
       "<Figure size 640x480 with 1 Axes>"
      ]
     },
     "metadata": {},
     "output_type": "display_data"
    }
   ],
   "source": [
    "test_lz77(file_pathes, 100)"
   ]
  },
  {
   "attachments": {},
   "cell_type": "markdown",
   "metadata": {},
   "source": [
    "#### Buffer size = 500"
   ]
  },
  {
   "cell_type": "code",
   "execution_count": null,
   "metadata": {},
   "outputs": [
    {
     "data": {
      "image/png": "[encoded data removed]",
      "text/plain": [
       "<Figure size 640x480 with 1 Axes>"
      ]
     },
     "metadata": {},
     "output_type": "display_data"
    }
   ],
   "source": [
    "test_lz77(file_pathes, 500)"
   ]
  },
  {
   "attachments": {},
   "cell_type": "markdown",
   "metadata": {},
   "source": [
    "### Conclusion"
   ]
  },
  {
   "attachments": {},
   "cell_type": "markdown",
   "metadata": {},
   "source": [
    "LZ77 is commonly used for compressing data in various applications, such as image, video, and audio encoding, as well as in file archiving and transmission. It works by replacing repeated occurrences of data with references to previous occurrences of that data, which can be represented more efficiently.\n",
    "\n",
    "The algorithm works most effectively with repetitive data, or where there are some regular patterns. It is inefficient to use it to compress already compressed files"
   ]
  }
 ],
 "metadata": {
  "kernelspec": {
   "display_name": "Python 3",
   "language": "python",
   "name": "python3"
  },
  "language_info": {
   "codemirror_mode": {
    "name": "ipython",
    "version": 3
   },
   "file_extension": ".py",
   "mimetype": "text/x-python",
   "name": "python",
   "nbconvert_exporter": "python",
   "pygments_lexer": "ipython3",
   "version": "3.11.1"
  },
  "orig_nbformat": 4
 },
 "nbformat": 4,
 "nbformat_minor": 2
}
